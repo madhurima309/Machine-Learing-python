{
 "cells": [
  {
   "cell_type": "code",
   "execution_count": 4,
   "id": "8f7d0fb7",
   "metadata": {},
   "outputs": [],
   "source": [
    "import numpy as np\n",
    "import pandas as pd"
   ]
  },
  {
   "cell_type": "code",
   "execution_count": 32,
   "id": "848726c7",
   "metadata": {
    "scrolled": true
   },
   "outputs": [
    {
     "name": "stdout",
     "output_type": "stream",
     "text": [
      "X1=2.25\n",
      "X2=2.236111111111111\n",
      "X3=2.2360679779158037\n",
      "X4=2.23606797749979\n",
      "2.23606797749979\n"
     ]
    }
   ],
   "source": [
    "#Problem 1. Write a function squareRoot(x) to compute the square root of the positive number by newton-raphson method.\n",
    "\n",
    "def squaretRoot(n,iterations,approx):\n",
    "    x=1\n",
    "    for i in range(iterations):\n",
    "        value=0.5*(approx+n/approx)\n",
    "        approx=value\n",
    "        print(\"X\"+str(x)+\"=\"+str(approx))\n",
    "        x=x+1\n",
    "    return value\n",
    "print(squaretRoot(5,4,2))\n",
    "\n",
    "\n",
    "#To calculate the sqrt,we need to give the number(n),no.of iterations required and approximate root."
   ]
  },
  {
   "cell_type": "code",
   "execution_count": 55,
   "id": "d7da28c7",
   "metadata": {},
   "outputs": [
    {
     "name": "stdout",
     "output_type": "stream",
     "text": [
      "2.23606797749979\n"
     ]
    }
   ],
   "source": [
    "# if only one value is needed i.e the sqrt\n",
    "def _sqrt(n):\n",
    "    approx=n\n",
    "    for i in range(500):\n",
    "        value=0.5*(approx+n/approx)\n",
    "        approx=value\n",
    "    return value\n",
    "print(_sqrt(5))"
   ]
  },
  {
   "cell_type": "code",
   "execution_count": 3,
   "id": "69e52b04",
   "metadata": {},
   "outputs": [
    {
     "name": "stdout",
     "output_type": "stream",
     "text": [
      "3.140592653839794\n"
     ]
    }
   ],
   "source": [
    "#Problem 2. Write a function myPi(n) to compute pi by Gregory series.\n",
    "#def: pi/4 = 1-1/3+1/5-1/7+1/9...; pi=4*(1-1/3+1/5-1/7+1/9...; thus defining the function.\n",
    "\n",
    "def myPi(n):\n",
    "    pi = 0 \n",
    "    num=4.0\n",
    "    for i in range(n):\n",
    "        x = (2*i+1)\n",
    "        val = num/x\n",
    "        if i%2:\n",
    "            pi = pi - val\n",
    "        else:\n",
    "            pi = pi + val\n",
    "    return(pi)\n",
    "print(myPi(1000)) # as even 300 iterations are not sufficient to calculate pi correctly to two decimal places\n"
   ]
  },
  {
   "cell_type": "code",
   "execution_count": null,
   "id": "6a3dd8e1",
   "metadata": {},
   "outputs": [],
   "source": []
  }
 ],
 "metadata": {
  "kernelspec": {
   "display_name": "Python 3",
   "language": "python",
   "name": "python3"
  },
  "language_info": {
   "codemirror_mode": {
    "name": "ipython",
    "version": 3
   },
   "file_extension": ".py",
   "mimetype": "text/x-python",
   "name": "python",
   "nbconvert_exporter": "python",
   "pygments_lexer": "ipython3",
   "version": "3.8.8"
  }
 },
 "nbformat": 4,
 "nbformat_minor": 5
}
